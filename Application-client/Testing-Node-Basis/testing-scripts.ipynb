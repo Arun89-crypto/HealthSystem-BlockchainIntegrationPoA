{
 "cells": [
  {
   "cell_type": "code",
   "execution_count": 1,
   "metadata": {},
   "outputs": [],
   "source": [
    "# importing libraries\n",
    "\n",
    "import matplotlib.pyplot as plt\n",
    "import csv"
   ]
  },
  {
   "cell_type": "code",
   "execution_count": 22,
   "metadata": {},
   "outputs": [],
   "source": [
    "network_throughput_values = []\n",
    "ganache_throughput_values = []\n",
    "\n",
    "ganache_speculated_values = []\n",
    "\n",
    "ratio = 0.0"
   ]
  },
  {
   "cell_type": "code",
   "execution_count": 23,
   "metadata": {},
   "outputs": [
    {
     "name": "stdout",
     "output_type": "stream",
     "text": [
      "Network Throughput Values :  [21.020720958709717, 8.806632995605469, 14.220090866088867, 15.574299812316895, 12.664725065231323]\n",
      "Ganache Throughput Values :  [0.40123891830444336, 0.6677430152893067, 2.8090786933898926, 3.4592113494873047, 4.572136402130127]\n",
      "Needed Ratio :  60.69694429812081\n"
     ]
    }
   ],
   "source": [
    "def calculate_average_network_values() -> float:\n",
    "    with open(\"./throughput.csv\") as f:\n",
    "        data = csv.reader(f, delimiter=',')\n",
    "        for dataval in data:\n",
    "            if(dataval[1] != 'time'):\n",
    "                ganache_throughput_values.append(float(dataval[1]))\n",
    "    with open(\"../Analyse-Networks/main_polygon.csv\") as f:\n",
    "        data = csv.reader(f, delimiter=',')\n",
    "        for dataval in data:\n",
    "            if(dataval[0] == \"GetSelfKeys\"):\n",
    "                network_throughput_values.append(float(dataval[1]))\n",
    "    ratio = sum(network_throughput_values)/sum(ganache_throughput_values)\n",
    "    return ratio*10\n",
    "\n",
    "ratio = calculate_average_network_values()\n",
    "\n",
    "print(\"Network Throughput Values : \", network_throughput_values)\n",
    "print(\"Ganache Throughput Values : \",ganache_throughput_values)\n",
    "print(\"Needed Ratio : \", ratio)"
   ]
  },
  {
   "cell_type": "code",
   "execution_count": 24,
   "metadata": {},
   "outputs": [
    {
     "name": "stdout",
     "output_type": "stream",
     "text": [
      "Ganache Speculated Values : [24.353976274563045, 40.52996060447428, 170.5024929817243, 209.96355859525826, 277.5147085235028]\n"
     ]
    }
   ],
   "source": [
    "def calculate_speculated_values():\n",
    "    for val in ganache_throughput_values:\n",
    "        ganache_speculated_values.append(val*ratio)\n",
    "\n",
    "calculate_speculated_values()\n",
    "\n",
    "print(\"Ganache Speculated Values :\", ganache_speculated_values)"
   ]
  },
  {
   "cell_type": "code",
   "execution_count": 26,
   "metadata": {},
   "outputs": [
    {
     "data": {
      "image/png": "[encoded data removed]",
      "text/plain": [
       "<Figure size 432x288 with 1 Axes>"
      ]
     },
     "metadata": {
      "needs_background": "light"
     },
     "output_type": "display_data"
    }
   ],
   "source": [
    "throughput_y_axis = ganache_speculated_values\n",
    "throughput_x_axis = ['100','200','300','400','500']\n",
    "\n",
    "# Throughput Graph\n",
    "plt.plot(throughput_x_axis, throughput_y_axis,\n",
    "         color=\"r\", linestyle=\"solid\", marker='o', label=\"POL\")\n",
    "plt.ylabel('Time Taken (s)')\n",
    "plt.xlabel('Number of Nodes')\n",
    "plt.title(\"Throughput Graph (POLYGON)\", fontsize=20)\n",
    "plt.grid()\n",
    "plt.legend()\n",
    "plt.show()"
   ]
  }
 ],
 "metadata": {
  "kernelspec": {
   "display_name": "Python 3.9.0 64-bit",
   "language": "python",
   "name": "python3"
  },
  "language_info": {
   "codemirror_mode": {
    "name": "ipython",
    "version": 3
   },
   "file_extension": ".py",
   "mimetype": "text/x-python",
   "name": "python",
   "nbconvert_exporter": "python",
   "pygments_lexer": "ipython3",
   "version": "3.9.0"
  },
  "orig_nbformat": 4,
  "vscode": {
   "interpreter": {
    "hash": "7812ea015bdcee6f23a998adcdd2ef97c151c0c241b7b7070987d9313e41299d"
   }
  }
 },
 "nbformat": 4,
 "nbformat_minor": 2
}
