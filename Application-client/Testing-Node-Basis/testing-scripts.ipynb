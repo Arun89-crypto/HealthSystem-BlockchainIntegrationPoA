{
 "cells": [
  {
   "cell_type": "code",
   "execution_count": 1,
   "metadata": {},
   "outputs": [],
   "source": [
    "# importing libraries\n",
    "\n",
    "import matplotlib.pyplot as plt\n",
    "import csv"
   ]
  },
  {
   "cell_type": "code",
   "execution_count": 2,
   "metadata": {},
   "outputs": [],
   "source": [
    "network_throughput_values_pol = []\n",
    "network_throughput_values_eth = []\n",
    "\n",
    "ganache_throughput_values = []\n",
    "\n",
    "ganache_speculated_values_eth = []\n",
    "ganache_speculated_values_pol = []\n",
    "\n",
    "ratio_eth = 0.0\n",
    "ratio_pol = 0.0\n"
   ]
  },
  {
   "cell_type": "code",
   "execution_count": 3,
   "metadata": {},
   "outputs": [
    {
     "name": "stdout",
     "output_type": "stream",
     "text": [
      "Network Throughput Values (ETH) :  [114.27856993675232, 47.17865705490112, 15.003321170806885, 150.00332117080688, 150.00332117080688]\n",
      "Network Throughput Values (POL) :  [21.020720958709717, 8.806632995605469, 14.220090866088867, 15.574299812316895, 12.664725065231323]\n",
      "Ganache Throughput Values :  [0.40123891830444336, 0.6677430152893067, 2.8090786933898926, 3.4592113494873047, 4.572136402130127]\n",
      "Needed Ratio (ETH) :  400.07628872664606\n",
      "Needed Ratio (POL) :  6.069694429812081\n"
     ]
    }
   ],
   "source": [
    "def calculate_average_network_values() -> float:\n",
    "    with open(\"./throughput.csv\") as f:\n",
    "        data = csv.reader(f, delimiter=',')\n",
    "        for dataval in data:\n",
    "            if(dataval[1] != 'time'):\n",
    "                ganache_throughput_values.append(float(dataval[1]))\n",
    "    with open(\"../Analyse-Networks/main_polygon.csv\") as f:\n",
    "        data = csv.reader(f, delimiter=',')\n",
    "        for dataval in data:\n",
    "            if(dataval[0] == \"GetSelfKeys\"):\n",
    "                network_throughput_values_pol.append(float(dataval[1]))\n",
    "    with open(\"../Analyse-Networks/main_ethereum.csv\") as f:\n",
    "        data = csv.reader(f, delimiter=',')\n",
    "        for dataval in data:\n",
    "            if(dataval[0] == \"GetSelfKeys\"):\n",
    "                network_throughput_values_eth.append(float(dataval[1]))\n",
    "    ratio_eth = sum(network_throughput_values_eth)/sum(ganache_throughput_values)\n",
    "    ratio_pol = sum(network_throughput_values_pol)/sum(ganache_throughput_values)\n",
    "    return ratio_eth*10,ratio_pol\n",
    "\n",
    "ratio_eth,ratio_pol = calculate_average_network_values()\n",
    "\n",
    "\n",
    "print(\"Network Throughput Values (ETH) : \", network_throughput_values_eth)\n",
    "print(\"Network Throughput Values (POL) : \", network_throughput_values_pol)\n",
    "\n",
    "print(\"Ganache Throughput Values : \",ganache_throughput_values)\n",
    "print(\"Needed Ratio (ETH) : \", ratio_eth)\n",
    "print(\"Needed Ratio (POL) : \", ratio_pol)"
   ]
  },
  {
   "cell_type": "code",
   "execution_count": 4,
   "metadata": {},
   "outputs": [
    {
     "name": "stdout",
     "output_type": "stream",
     "text": [
      "Ganache Speculated Values (ETH) : [160.52617732793564, 267.1481473800859, 1123.8457783925244, 1383.9484386239737, 1829.2033633162214]\n",
      "Ganache Speculated Values (POL) : [2.4353976274563047, 4.052996060447428, 17.05024929817243, 20.996355859525824, 27.75147085235028]\n"
     ]
    }
   ],
   "source": [
    "def calculate_speculated_values():\n",
    "    for val in ganache_throughput_values:\n",
    "        ganache_speculated_values_eth.append(val*ratio_eth)\n",
    "    for val in ganache_throughput_values:\n",
    "        ganache_speculated_values_pol.append(val*ratio_pol)\n",
    "\n",
    "calculate_speculated_values()\n",
    "\n",
    "print(\"Ganache Speculated Values (ETH) :\", ganache_speculated_values_eth)\n",
    "print(\"Ganache Speculated Values (POL) :\", ganache_speculated_values_pol)"
   ]
  },
  {
   "cell_type": "code",
   "execution_count": 5,
   "metadata": {},
   "outputs": [
    {
     "data": {
      "image/png": "[encoded data removed]",
      "text/plain": [
       "<Figure size 432x288 with 1 Axes>"
      ]
     },
     "metadata": {
      "needs_background": "light"
     },
     "output_type": "display_data"
    }
   ],
   "source": [
    "throughput_y_axis_eth = ganache_speculated_values_eth\n",
    "throughput_y_axis_pol = ganache_speculated_values_pol\n",
    "throughput_x_axis = ['100','200','300','400','500']\n",
    "\n",
    "# Throughput Graph\n",
    "plt.plot(throughput_x_axis, throughput_y_axis_eth,\n",
    "         color=\"r\", linestyle=\"solid\", marker='o', label=\"ETH\")\n",
    "plt.plot(throughput_x_axis, throughput_y_axis_pol,\n",
    "         color=\"b\", linestyle=\"solid\", marker='o', label=\"POL\")\n",
    "plt.ylabel('Time Taken (s)')\n",
    "plt.xlabel('Number of Nodes')\n",
    "plt.title(\"Throughput Graph (ETH/POLYGON)\", fontsize=20)\n",
    "plt.grid()\n",
    "plt.legend()\n",
    "plt.show()\n"
   ]
  }
 ],
 "metadata": {
  "kernelspec": {
   "display_name": "Python 3.9.0 64-bit",
   "language": "python",
   "name": "python3"
  },
  "language_info": {
   "codemirror_mode": {
    "name": "ipython",
    "version": 3
   },
   "file_extension": ".py",
   "mimetype": "text/x-python",
   "name": "python",
   "nbconvert_exporter": "python",
   "pygments_lexer": "ipython3",
   "version": "3.9.0"
  },
  "orig_nbformat": 4,
  "vscode": {
   "interpreter": {
    "hash": "7812ea015bdcee6f23a998adcdd2ef97c151c0c241b7b7070987d9313e41299d"
   }
  }
 },
 "nbformat": 4,
 "nbformat_minor": 2
}
